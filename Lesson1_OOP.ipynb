{
 "cells": [
  {
   "cell_type": "markdown",
   "metadata": {},
   "source": [
    "# Hello Evans! - please use this as a guide for future lessons"
   ]
  },
  {
   "cell_type": "markdown",
   "metadata": {},
   "source": [
    "\n",
    "`I would like to adopt this format for all of our exercises:`\n",
    "    \n",
    "   1. Put all exercises in an ipython notebook.<br><br>\n",
    "   2. At the top (see cell below) please include a brief a summary of the topics that you are covering in the notebook - here there are 3 topics (3-4 should be a good number per lesson) - I'll work on them and then we can meet<br><br>\n",
    "   3. There should be VERY few questions that ask things like \"what is inheritance\" or \"what is composition\" - you can assume I understand and can easily look up these concepts. What I need is more advanced examples and practice on how to use them and some of the more \"tricky\" exercises. Instead of asking \"what is the diamond problem\" - please create a scenario where the diamond problem becomes an issue and pose specific questions on how to solve it (maybe a few potential solutions we can talk through in our live 1:1 lesson).<br><br>\n",
    "   4. Please add lots of comments and below each snippet of code you should pose a series of questions and things to examine in the code. It may also be good to list something code that has a bug or does not run and ask \"why\".\n",
    "    "
   ]
  },
  {
   "cell_type": "markdown",
   "metadata": {},
   "source": [
    "# `SUMMARY:`\n",
    "The three topics covered in this notebook are:\n",
    "1. `Simple and multiple inheritance` with some tricky cases\n",
    "2. Difference between `static methods, classmethod and regular methods` (and when to use each)\n",
    "3. Diamond problem | MRO | some important dunder methods\n",
    "4. ???"
   ]
  },
  {
   "cell_type": "markdown",
   "metadata": {},
   "source": [
    "### Problem set 1 (inheritance) "
   ]
  },
  {
   "cell_type": "code",
   "execution_count": 12,
   "metadata": {},
   "outputs": [
    {
     "data": {
      "text/plain": [
       "\"\\n- What would happen if I didn't declare __init__ and then tried to instantiate an Employee class?\\n- I've written an employee - have it inherit from the manager class, write this in a way that the employee uses the attributes of the manager class\\n- How would I use super to have employee inherit from manager? Do I have to redefine the init method when I inherit? When would I want to do that?\\n- Maybe go into some issues you can run in with super and the way the .super() method changed in python 2 -> python 3\\n\\n\""
      ]
     },
     "execution_count": 12,
     "metadata": {},
     "output_type": "execute_result"
    }
   ],
   "source": [
    "# Take a look at this code snippet that defines an Employee class and 2 methods for greeting and bonus:\n",
    "class Company:\n",
    "    pass\n",
    "    #fill in code\n",
    "\n",
    "class Manager:\n",
    "    pass\n",
    "    #fill in code\n",
    "\n",
    "class Employee:\n",
    "    employer = 'SomeCompany'\n",
    "    base_bonus = 10_000\n",
    "    \n",
    "    def __init__(self,first,last,desk,city):\n",
    "        self.first = first\n",
    "        self.last = last\n",
    "        self.desk = desk\n",
    "        self.city = city\n",
    "        self.email = first + '.' + last + '@SomeCompany.com'\n",
    "        \n",
    "    def greeting(self):\n",
    "        return f'{self.employer} emlpoyee: {self.first} {self.last}, assigned to: {self.desk}, can be reached at: {self.email}'\n",
    "    \n",
    "    def bonus(self):\n",
    "        return f'Employee: {self.last}, base level bonus = {self.base_bonus}'\n",
    "        \n",
    "    \n",
    "# ------------------------ Questions: --------------------------------------------\n",
    "\n",
    "'''\n",
    "- What would happen if I didn't declare __init__ and then tried to instantiate an Employee class?\n",
    "- I've written an employee - have it inherit from the manager class, write this in a way that the employee uses the attributes of the manager class\n",
    "- How would I use super to have employee inherit from manager? Do I have to redefine the init method when I inherit? When would I want to do that?\n",
    "- Maybe go into some issues you can run in with super and the way the .super() method changed in python 2 -> python 3\n",
    "\n",
    "'''\n"
   ]
  },
  {
   "cell_type": "markdown",
   "metadata": {},
   "source": [
    "### Problem set 2 (Regular methods | Class methods | Static Methods)"
   ]
  },
  {
   "cell_type": "code",
   "execution_count": null,
   "metadata": {},
   "outputs": [],
   "source": [
    "# In this exercise we're are trying to understand the difference between the 3 types of \"methods\" within a class. \n",
    "# You should be able to understand when and how to use each of them"
   ]
  },
  {
   "cell_type": "code",
   "execution_count": 6,
   "metadata": {},
   "outputs": [
    {
     "data": {
      "text/plain": [
       "'\\nThis extends the emloyee class examples\\n- In line 15 (Employee.employee_counter += 1) - What is going on here? Why don\\'t I call this in the constructor? What type of variable is this?\\n- What does it mean to \"use class methods as alternative constructors\" - Do you see that displayed above? -- hint: look at the last method\\n- The module and class \"datetime\" in python has a great example of using alternative constructors - can you find them? We can discuss in the lesson!\\n- Do you understand why I\\'m using a decorator here and what it is doing?\\n- If you wanted to write a static class - how would you go about it? What\\'s the difference between static and class method?\\n\\n'"
      ]
     },
     "execution_count": 6,
     "metadata": {},
     "output_type": "execute_result"
    }
   ],
   "source": [
    "class Employee:\n",
    "    \n",
    "    employer = 'SomeCompany'\n",
    "    base_bonus = 10_000\n",
    "    employee_counter = 0\n",
    "    amount_401k = 1.04\n",
    "    \n",
    "    def __init__(self,first,last,desk,city):\n",
    "        self.first = first\n",
    "        self.last = last\n",
    "        self.desk = desk\n",
    "        self.salary = salary\n",
    "        self.email = first + '.' + last + '@SomeCompany.com'\n",
    "        \n",
    "        Employee.employee_counter += 1\n",
    "        \n",
    "    def greeting(self):\n",
    "        return f'{self.employer} emlpoyee: {self.first} {self.last}, assigned to: {self.desk}, can be reached at: {self.email}'\n",
    "    \n",
    "    def bonus(self):\n",
    "        return f'Employee: {self.last}, base level bonus = {self.base_bonus}'\n",
    "        \n",
    "    @classmethod\n",
    "    def apply_match_401k(cls,amount):\n",
    "        cls.amount_401k = amount\n",
    "     \n",
    "    @classmethod\n",
    "    def from_string(cls,emp_str):\n",
    "        first,last,salary = emp_str.split('-')\n",
    "        return cls(first,last,pay)\n",
    "        \n",
    "    \n",
    "# ------------------------ Questions: --------------------------------------------\n",
    "\n",
    "'''\n",
    "This extends the emloyee class examples\n",
    "- In line 15 (Employee.employee_counter += 1) - What is going on here? Why don't I call this in the constructor? What type of variable is this?\n",
    "- What does it mean to \"use class methods as alternative constructors\" - Do you see that displayed above? -- hint: look at the last method\n",
    "- The module and class \"datetime\" in python has a great example of using alternative constructors - can you find them? We can discuss in the lesson!\n",
    "- Do you understand why I'm using a decorator here and what it is doing?\n",
    "- If you wanted to write a static class - how would you go about it? What's the difference between static and class method?\n",
    "\n",
    "'''"
   ]
  },
  {
   "cell_type": "code",
   "execution_count": null,
   "metadata": {},
   "outputs": [],
   "source": []
  },
  {
   "cell_type": "markdown",
   "metadata": {},
   "source": [
    "### Problem set 3 (MRO, Diamond Problem)"
   ]
  },
  {
   "cell_type": "code",
   "execution_count": null,
   "metadata": {},
   "outputs": [],
   "source": [
    "#maybe look at the MRO - the diamond problem - things like: isattr,isinstance, "
   ]
  },
  {
   "cell_type": "markdown",
   "metadata": {},
   "source": [
    "### Problem set 4 (When to use composition -- give some examples and pose some questions)"
   ]
  },
  {
   "cell_type": "code",
   "execution_count": 7,
   "metadata": {},
   "outputs": [],
   "source": [
    "# Problem set on composition over inheritance"
   ]
  },
  {
   "cell_type": "code",
   "execution_count": null,
   "metadata": {},
   "outputs": [],
   "source": []
  }
 ],
 "metadata": {
  "kernelspec": {
   "display_name": "Python 3",
   "language": "python",
   "name": "python3"
  },
  "language_info": {
   "codemirror_mode": {
    "name": "ipython",
    "version": 3
   },
   "file_extension": ".py",
   "mimetype": "text/x-python",
   "name": "python",
   "nbconvert_exporter": "python",
   "pygments_lexer": "ipython3",
   "version": "3.8.3"
  }
 },
 "nbformat": 4,
 "nbformat_minor": 4
}
